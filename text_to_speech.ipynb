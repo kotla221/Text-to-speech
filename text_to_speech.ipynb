{
  "nbformat": 4,
  "nbformat_minor": 0,
  "metadata": {
    "colab": {
      "name": "text to speech.ipynb",
      "provenance": [],
      "collapsed_sections": []
    },
    "kernelspec": {
      "name": "python3",
      "display_name": "Python 3"
    }
  },
  "cells": [
    {
      "cell_type": "code",
      "metadata": {
        "id": "ye7eRG8faNp5",
        "colab_type": "code",
        "colab": {}
      },
      "source": [
        "import nltk"
      ],
      "execution_count": null,
      "outputs": []
    },
    {
      "cell_type": "code",
      "metadata": {
        "id": "pdbM-CmUaSm3",
        "colab_type": "code",
        "colab": {}
      },
      "source": [
        "import nltk.corpus"
      ],
      "execution_count": null,
      "outputs": []
    },
    {
      "cell_type": "markdown",
      "metadata": {
        "id": "zM1EYfWSnczO",
        "colab_type": "text"
      },
      "source": [
        "Tokenization"
      ]
    },
    {
      "cell_type": "code",
      "metadata": {
        "id": "1nkobAK0acWM",
        "colab_type": "code",
        "colab": {}
      },
      "source": [
        "from nltk.tokenize import word_tokenize"
      ],
      "execution_count": null,
      "outputs": []
    },
    {
      "cell_type": "code",
      "metadata": {
        "id": "-Qi-r9qSap2v",
        "colab_type": "code",
        "colab": {}
      },
      "source": [
        "chess = \"Samay Raina is the best chess streamer in the world\""
      ],
      "execution_count": null,
      "outputs": []
    },
    {
      "cell_type": "code",
      "metadata": {
        "id": "7b94BcYRcfvs",
        "colab_type": "code",
        "colab": {
          "base_uri": "https://localhost:8080/",
          "height": 35
        },
        "outputId": "f6111ae4-3c2d-4a37-9c08-0201bf156323"
      },
      "source": [
        "chess"
      ],
      "execution_count": null,
      "outputs": [
        {
          "output_type": "execute_result",
          "data": {
            "application/vnd.google.colaboratory.intrinsic": {
              "type": "string"
            },
            "text/plain": [
              "'Samay Raina is the best chess streamer in the world'"
            ]
          },
          "metadata": {
            "tags": []
          },
          "execution_count": 22
        }
      ]
    },
    {
      "cell_type": "code",
      "metadata": {
        "id": "xHcljiJEkK7W",
        "colab_type": "code",
        "colab": {
          "base_uri": "https://localhost:8080/",
          "height": 68
        },
        "outputId": "908072f0-1213-4fec-acfc-c4102fa62f7f"
      },
      "source": [
        "nltk.download('punkt')"
      ],
      "execution_count": null,
      "outputs": [
        {
          "output_type": "stream",
          "text": [
            "[nltk_data] Downloading package punkt to /root/nltk_data...\n",
            "[nltk_data]   Unzipping tokenizers/punkt.zip.\n"
          ],
          "name": "stdout"
        },
        {
          "output_type": "execute_result",
          "data": {
            "text/plain": [
              "True"
            ]
          },
          "metadata": {
            "tags": []
          },
          "execution_count": 24
        }
      ]
    },
    {
      "cell_type": "code",
      "metadata": {
        "id": "A5-fLVeravhq",
        "colab_type": "code",
        "colab": {
          "base_uri": "https://localhost:8080/",
          "height": 187
        },
        "outputId": "60750e0d-ef42-4efe-b76d-1205c2294a8b"
      },
      "source": [
        "word_tokenize(chess)"
      ],
      "execution_count": null,
      "outputs": [
        {
          "output_type": "execute_result",
          "data": {
            "text/plain": [
              "['Samay',\n",
              " 'Raina',\n",
              " 'is',\n",
              " 'the',\n",
              " 'best',\n",
              " 'chess',\n",
              " 'streamer',\n",
              " 'in',\n",
              " 'the',\n",
              " 'world']"
            ]
          },
          "metadata": {
            "tags": []
          },
          "execution_count": 25
        }
      ]
    },
    {
      "cell_type": "code",
      "metadata": {
        "id": "hRLsBhUTaxxa",
        "colab_type": "code",
        "colab": {}
      },
      "source": [
        "#sentence tokenizer\n",
        "from nltk.tokenize import sent_tokenize"
      ],
      "execution_count": null,
      "outputs": []
    },
    {
      "cell_type": "code",
      "metadata": {
        "id": "-O0PfV0mkhJJ",
        "colab_type": "code",
        "colab": {}
      },
      "source": [
        "chess2= \"Samay is the best chess streamer in the world.Sagar Shah is the best coaach in the world\""
      ],
      "execution_count": null,
      "outputs": []
    },
    {
      "cell_type": "code",
      "metadata": {
        "id": "hN9Iznp5kuuy",
        "colab_type": "code",
        "colab": {
          "base_uri": "https://localhost:8080/",
          "height": 54
        },
        "outputId": "278e3159-8377-4aa0-8e09-6cd896e42379"
      },
      "source": [
        "sent_tokenize(chess2)"
      ],
      "execution_count": null,
      "outputs": [
        {
          "output_type": "execute_result",
          "data": {
            "text/plain": [
              "['Samay is the best chess streamer in the world.Sagar Shah is the best coaach in the world']"
            ]
          },
          "metadata": {
            "tags": []
          },
          "execution_count": 31
        }
      ]
    },
    {
      "cell_type": "code",
      "metadata": {
        "id": "ypwH1yOskzxo",
        "colab_type": "code",
        "colab": {
          "base_uri": "https://localhost:8080/",
          "height": 34
        },
        "outputId": "d45662f5-be41-4b8c-9cab-1d1752f887b3"
      },
      "source": [
        "#checking number of tokens\n",
        "len(word_tokenize(chess))"
      ],
      "execution_count": null,
      "outputs": [
        {
          "output_type": "execute_result",
          "data": {
            "text/plain": [
              "10"
            ]
          },
          "metadata": {
            "tags": []
          },
          "execution_count": 32
        }
      ]
    },
    {
      "cell_type": "code",
      "metadata": {
        "id": "SB1y18aolBbG",
        "colab_type": "code",
        "colab": {}
      },
      "source": [
        "astronaut=\"Can anybody hear me or am I talking to myself?My mind is running crzay\""
      ],
      "execution_count": null,
      "outputs": []
    },
    {
      "cell_type": "code",
      "metadata": {
        "id": "kzoMjPtvlRRZ",
        "colab_type": "code",
        "colab": {}
      },
      "source": [
        "astronaut_token=(word_tokenize(astronaut))"
      ],
      "execution_count": null,
      "outputs": []
    },
    {
      "cell_type": "code",
      "metadata": {
        "id": "X-94vgCllYRu",
        "colab_type": "code",
        "colab": {
          "base_uri": "https://localhost:8080/",
          "height": 272
        },
        "outputId": "0c9fa0a1-c39e-4935-c274-3ef5e2e5277a"
      },
      "source": [
        "list(nltk.bigrams(astronaut_token))"
      ],
      "execution_count": null,
      "outputs": [
        {
          "output_type": "execute_result",
          "data": {
            "text/plain": [
              "[('Can', 'anybody'),\n",
              " ('anybody', 'hear'),\n",
              " ('hear', 'me'),\n",
              " ('me', 'or'),\n",
              " ('or', 'am'),\n",
              " ('am', 'I'),\n",
              " ('I', 'talking'),\n",
              " ('talking', 'to'),\n",
              " ('to', 'myself'),\n",
              " ('myself', '?'),\n",
              " ('?', 'My'),\n",
              " ('My', 'mind'),\n",
              " ('mind', 'is'),\n",
              " ('is', 'running'),\n",
              " ('running', 'crzay')]"
            ]
          },
          "metadata": {
            "tags": []
          },
          "execution_count": 36
        }
      ]
    },
    {
      "cell_type": "code",
      "metadata": {
        "id": "LvokLHbSlgc2",
        "colab_type": "code",
        "colab": {
          "base_uri": "https://localhost:8080/",
          "height": 255
        },
        "outputId": "a47d0c91-c14b-40c6-9e68-52bbcf27f2bc"
      },
      "source": [
        "list(nltk.trigrams(astronaut_token))"
      ],
      "execution_count": null,
      "outputs": [
        {
          "output_type": "execute_result",
          "data": {
            "text/plain": [
              "[('Can', 'anybody', 'hear'),\n",
              " ('anybody', 'hear', 'me'),\n",
              " ('hear', 'me', 'or'),\n",
              " ('me', 'or', 'am'),\n",
              " ('or', 'am', 'I'),\n",
              " ('am', 'I', 'talking'),\n",
              " ('I', 'talking', 'to'),\n",
              " ('talking', 'to', 'myself'),\n",
              " ('to', 'myself', '?'),\n",
              " ('myself', '?', 'My'),\n",
              " ('?', 'My', 'mind'),\n",
              " ('My', 'mind', 'is'),\n",
              " ('mind', 'is', 'running'),\n",
              " ('is', 'running', 'crzay')]"
            ]
          },
          "metadata": {
            "tags": []
          },
          "execution_count": 37
        }
      ]
    },
    {
      "cell_type": "code",
      "metadata": {
        "id": "82qsd2QWllV6",
        "colab_type": "code",
        "colab": {
          "base_uri": "https://localhost:8080/",
          "height": 221
        },
        "outputId": "01cb100d-f6c0-44e0-d10f-6638295b65d9"
      },
      "source": [
        "list(nltk.ngrams(astronaut_token,5))"
      ],
      "execution_count": null,
      "outputs": [
        {
          "output_type": "execute_result",
          "data": {
            "text/plain": [
              "[('Can', 'anybody', 'hear', 'me', 'or'),\n",
              " ('anybody', 'hear', 'me', 'or', 'am'),\n",
              " ('hear', 'me', 'or', 'am', 'I'),\n",
              " ('me', 'or', 'am', 'I', 'talking'),\n",
              " ('or', 'am', 'I', 'talking', 'to'),\n",
              " ('am', 'I', 'talking', 'to', 'myself'),\n",
              " ('I', 'talking', 'to', 'myself', '?'),\n",
              " ('talking', 'to', 'myself', '?', 'My'),\n",
              " ('to', 'myself', '?', 'My', 'mind'),\n",
              " ('myself', '?', 'My', 'mind', 'is'),\n",
              " ('?', 'My', 'mind', 'is', 'running'),\n",
              " ('My', 'mind', 'is', 'running', 'crzay')]"
            ]
          },
          "metadata": {
            "tags": []
          },
          "execution_count": 38
        }
      ]
    },
    {
      "cell_type": "markdown",
      "metadata": {
        "id": "2AGn0NW4l3oJ",
        "colab_type": "text"
      },
      "source": [
        "STEMMING"
      ]
    },
    {
      "cell_type": "code",
      "metadata": {
        "id": "3rW4yostl6Fc",
        "colab_type": "code",
        "colab": {}
      },
      "source": [
        ""
      ],
      "execution_count": null,
      "outputs": []
    },
    {
      "cell_type": "code",
      "metadata": {
        "id": "QlyxkbxMloNg",
        "colab_type": "code",
        "colab": {}
      },
      "source": [
        "from nltk.stem import PorterStemmer"
      ],
      "execution_count": null,
      "outputs": []
    },
    {
      "cell_type": "code",
      "metadata": {
        "id": "QKpmEkwZluQW",
        "colab_type": "code",
        "colab": {}
      },
      "source": [
        "my_stem=PorterStemmer()"
      ],
      "execution_count": null,
      "outputs": []
    },
    {
      "cell_type": "code",
      "metadata": {
        "id": "6YMW7WTamC3M",
        "colab_type": "code",
        "colab": {
          "base_uri": "https://localhost:8080/",
          "height": 35
        },
        "outputId": "97f1d871-e877-4356-be85-ecf5b48543f9"
      },
      "source": [
        "my_stem.stem(\"eating\")"
      ],
      "execution_count": null,
      "outputs": [
        {
          "output_type": "execute_result",
          "data": {
            "application/vnd.google.colaboratory.intrinsic": {
              "type": "string"
            },
            "text/plain": [
              "'eat'"
            ]
          },
          "metadata": {
            "tags": []
          },
          "execution_count": 41
        }
      ]
    },
    {
      "cell_type": "code",
      "metadata": {
        "id": "fTBGwDAcmHI2",
        "colab_type": "code",
        "colab": {
          "base_uri": "https://localhost:8080/",
          "height": 35
        },
        "outputId": "f74b4fd8-0b2d-4e3b-c682-d5b096e0b78a"
      },
      "source": [
        "my_stem.stem(\"fucking\")"
      ],
      "execution_count": null,
      "outputs": [
        {
          "output_type": "execute_result",
          "data": {
            "application/vnd.google.colaboratory.intrinsic": {
              "type": "string"
            },
            "text/plain": [
              "'fuck'"
            ]
          },
          "metadata": {
            "tags": []
          },
          "execution_count": 42
        }
      ]
    },
    {
      "cell_type": "markdown",
      "metadata": {
        "id": "Uey10MDRmMYw",
        "colab_type": "text"
      },
      "source": [
        "POS_TAGGING"
      ]
    },
    {
      "cell_type": "code",
      "metadata": {
        "id": "PSzqAjuvmK3g",
        "colab_type": "code",
        "colab": {}
      },
      "source": [
        "tom=\"Tom Hanks is the best actor in the world\""
      ],
      "execution_count": null,
      "outputs": []
    },
    {
      "cell_type": "code",
      "metadata": {
        "id": "Mvt5HCoTmUMh",
        "colab_type": "code",
        "colab": {}
      },
      "source": [
        "tom_token=word_tokenize(tom)"
      ],
      "execution_count": null,
      "outputs": []
    },
    {
      "cell_type": "code",
      "metadata": {
        "id": "M4ADnvpzmYS5",
        "colab_type": "code",
        "colab": {
          "base_uri": "https://localhost:8080/",
          "height": 170
        },
        "outputId": "b5e4464a-02ff-4cc2-9d52-f1aac9714abd"
      },
      "source": [
        "nltk.pos_tag(tom_token)"
      ],
      "execution_count": null,
      "outputs": [
        {
          "output_type": "execute_result",
          "data": {
            "text/plain": [
              "[('Tom', 'NNP'),\n",
              " ('Hanks', 'NNP'),\n",
              " ('is', 'VBZ'),\n",
              " ('the', 'DT'),\n",
              " ('best', 'JJS'),\n",
              " ('actor', 'NN'),\n",
              " ('in', 'IN'),\n",
              " ('the', 'DT'),\n",
              " ('world', 'NN')]"
            ]
          },
          "metadata": {
            "tags": []
          },
          "execution_count": 47
        }
      ]
    },
    {
      "cell_type": "code",
      "metadata": {
        "id": "YYjcRaxGmdLo",
        "colab_type": "code",
        "colab": {
          "base_uri": "https://localhost:8080/",
          "height": 85
        },
        "outputId": "93ced03c-933e-4c71-d787-bb5b0862bf56"
      },
      "source": [
        "nltk.download('averaged_perceptron_tagger')"
      ],
      "execution_count": null,
      "outputs": [
        {
          "output_type": "stream",
          "text": [
            "[nltk_data] Downloading package averaged_perceptron_tagger to\n",
            "[nltk_data]     /root/nltk_data...\n",
            "[nltk_data]   Unzipping taggers/averaged_perceptron_tagger.zip.\n"
          ],
          "name": "stdout"
        },
        {
          "output_type": "execute_result",
          "data": {
            "text/plain": [
              "True"
            ]
          },
          "metadata": {
            "tags": []
          },
          "execution_count": 46
        }
      ]
    },
    {
      "cell_type": "markdown",
      "metadata": {
        "id": "m9v6eEPjmrQe",
        "colab_type": "text"
      },
      "source": [
        "Named entity recognition"
      ]
    },
    {
      "cell_type": "code",
      "metadata": {
        "id": "luY_-c2Tml7Z",
        "colab_type": "code",
        "colab": {}
      },
      "source": [
        "from nltk import ne_chunk"
      ],
      "execution_count": null,
      "outputs": []
    },
    {
      "cell_type": "code",
      "metadata": {
        "id": "ts-MBRkTm0g_",
        "colab_type": "code",
        "colab": {}
      },
      "source": [
        "prime=\"Narendra Modi is the Prime Minister Of India\""
      ],
      "execution_count": null,
      "outputs": []
    },
    {
      "cell_type": "code",
      "metadata": {
        "id": "VK07lf3Rm8FZ",
        "colab_type": "code",
        "colab": {}
      },
      "source": [
        "prime_token=word_tokenize(prime)"
      ],
      "execution_count": null,
      "outputs": []
    },
    {
      "cell_type": "code",
      "metadata": {
        "id": "DtYCSrkNnBu4",
        "colab_type": "code",
        "colab": {}
      },
      "source": [
        "prime_pos=nltk.pos_tag(prime_token)"
      ],
      "execution_count": null,
      "outputs": []
    },
    {
      "cell_type": "code",
      "metadata": {
        "id": "UQqRMcFMnJb7",
        "colab_type": "code",
        "colab": {
          "base_uri": "https://localhost:8080/",
          "height": 170
        },
        "outputId": "01cf4082-0bd7-4f28-df5a-76978912f376"
      },
      "source": [
        "print(ne_chunk(prime_pos))"
      ],
      "execution_count": null,
      "outputs": [
        {
          "output_type": "stream",
          "text": [
            "(S\n",
            "  (PERSON Narendra/NNP)\n",
            "  (ORGANIZATION Modi/NNP)\n",
            "  is/VBZ\n",
            "  the/DT\n",
            "  Prime/NNP\n",
            "  Minister/NNP\n",
            "  Of/IN\n",
            "  (GPE India/NNP))\n"
          ],
          "name": "stdout"
        }
      ]
    },
    {
      "cell_type": "code",
      "metadata": {
        "id": "Q0hIKEm9nNEM",
        "colab_type": "code",
        "colab": {
          "base_uri": "https://localhost:8080/",
          "height": 85
        },
        "outputId": "e752d8c0-1ab1-4a95-eb02-2b387baad6b0"
      },
      "source": [
        "nltk.download('maxent_ne_chunker')"
      ],
      "execution_count": null,
      "outputs": [
        {
          "output_type": "stream",
          "text": [
            "[nltk_data] Downloading package maxent_ne_chunker to\n",
            "[nltk_data]     /root/nltk_data...\n",
            "[nltk_data]   Unzipping chunkers/maxent_ne_chunker.zip.\n"
          ],
          "name": "stdout"
        },
        {
          "output_type": "execute_result",
          "data": {
            "text/plain": [
              "True"
            ]
          },
          "metadata": {
            "tags": []
          },
          "execution_count": 55
        }
      ]
    },
    {
      "cell_type": "code",
      "metadata": {
        "id": "mdkx-fq7nRwc",
        "colab_type": "code",
        "colab": {
          "base_uri": "https://localhost:8080/",
          "height": 68
        },
        "outputId": "4a0a4407-bb90-4984-e157-ffae9cf489e9"
      },
      "source": [
        "nltk.download('words')"
      ],
      "execution_count": null,
      "outputs": [
        {
          "output_type": "stream",
          "text": [
            "[nltk_data] Downloading package words to /root/nltk_data...\n",
            "[nltk_data]   Unzipping corpora/words.zip.\n"
          ],
          "name": "stdout"
        },
        {
          "output_type": "execute_result",
          "data": {
            "text/plain": [
              "True"
            ]
          },
          "metadata": {
            "tags": []
          },
          "execution_count": 57
        }
      ]
    },
    {
      "cell_type": "code",
      "metadata": {
        "id": "VpJU_ed7nWSH",
        "colab_type": "code",
        "colab": {
          "base_uri": "https://localhost:8080/",
          "height": 360
        },
        "outputId": "3c69ff48-875c-450c-bcad-2fe29d2b727d"
      },
      "source": [
        "!pip install gTTS"
      ],
      "execution_count": 2,
      "outputs": [
        {
          "output_type": "stream",
          "text": [
            "Collecting gTTS\n",
            "  Downloading https://files.pythonhosted.org/packages/a1/0c/4ca77eca3b739a4a08360930643f58d714e302fee0d2f8c654e67d9af8e7/gTTS-2.1.1-py3-none-any.whl\n",
            "Requirement already satisfied: six in /usr/local/lib/python3.6/dist-packages (from gTTS) (1.15.0)\n",
            "Collecting gtts-token>=1.1.3\n",
            "  Downloading https://files.pythonhosted.org/packages/e7/25/ca6e9cd3275bfc3097fe6b06cc31db6d3dfaf32e032e0f73fead9c9a03ce/gTTS-token-1.1.3.tar.gz\n",
            "Requirement already satisfied: beautifulsoup4 in /usr/local/lib/python3.6/dist-packages (from gTTS) (4.6.3)\n",
            "Requirement already satisfied: click in /usr/local/lib/python3.6/dist-packages (from gTTS) (7.1.2)\n",
            "Requirement already satisfied: requests in /usr/local/lib/python3.6/dist-packages (from gTTS) (2.23.0)\n",
            "Requirement already satisfied: urllib3!=1.25.0,!=1.25.1,<1.26,>=1.21.1 in /usr/local/lib/python3.6/dist-packages (from requests->gTTS) (1.24.3)\n",
            "Requirement already satisfied: certifi>=2017.4.17 in /usr/local/lib/python3.6/dist-packages (from requests->gTTS) (2020.6.20)\n",
            "Requirement already satisfied: idna<3,>=2.5 in /usr/local/lib/python3.6/dist-packages (from requests->gTTS) (2.10)\n",
            "Requirement already satisfied: chardet<4,>=3.0.2 in /usr/local/lib/python3.6/dist-packages (from requests->gTTS) (3.0.4)\n",
            "Building wheels for collected packages: gtts-token\n",
            "  Building wheel for gtts-token (setup.py) ... \u001b[?25l\u001b[?25hdone\n",
            "  Created wheel for gtts-token: filename=gTTS_token-1.1.3-cp36-none-any.whl size=4097 sha256=10e5b3c43df24f4b7258c1deaa95a98673d53d9bbcb7c2f32e61baac2d0ce9e7\n",
            "  Stored in directory: /root/.cache/pip/wheels/dd/11/61/33f7e51bf545e910552b2255eead2a7cd8ef54064b46dceb34\n",
            "Successfully built gtts-token\n",
            "Installing collected packages: gtts-token, gTTS\n",
            "Successfully installed gTTS-2.1.1 gtts-token-1.1.3\n"
          ],
          "name": "stdout"
        }
      ]
    },
    {
      "cell_type": "code",
      "metadata": {
        "id": "mlkPUF2Bnu3w",
        "colab_type": "code",
        "colab": {
          "base_uri": "https://localhost:8080/",
          "height": 75
        },
        "outputId": "24ac2a88-cdce-4eb1-b70c-3218cfe6d524"
      },
      "source": [
        "from gtts import gTTS\n",
        "from IPython.display import Audio\n",
        "tts=gTTS('Sareee Manchidi')\n",
        "tts.save('1.wav')\n",
        "sound_file='1.wav'\n",
        "Audio(sound_file, autoplay=True)"
      ],
      "execution_count": 9,
      "outputs": [
        {
          "output_type": "execute_result",
          "data": {
            "text/html": [
              "\n",
              "                <audio controls=\"controls\" autoplay=\"autoplay\">\n",
              "                    <source src=\"data:audio/x-wav;base64,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\" type=\"audio/x-wav\" />\n",
              "                    Your browser does not support the audio element.\n",
              "                </audio>\n",
              "              "
            ],
            "text/plain": [
              "<IPython.lib.display.Audio object>"
            ]
          },
          "metadata": {
            "tags": []
          },
          "execution_count": 9
        }
      ]
    },
    {
      "cell_type": "code",
      "metadata": {
        "id": "f3ALmXdon1zA",
        "colab_type": "code",
        "colab": {}
      },
      "source": [
        " "
      ],
      "execution_count": null,
      "outputs": []
    }
  ]
}